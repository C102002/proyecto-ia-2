{
 "cells": [
  {
   "cell_type": "markdown",
   "id": "6adbcf01",
   "metadata": {},
   "source": [
    "# Modelo de Análisis de Sentimiento"
   ]
  },
  {
   "cell_type": "markdown",
   "id": "0c17be73",
   "metadata": {},
   "source": [
    "## 1. Obtención y Exploración de Datos (IIIT-5K Dataset):\n",
    "- Descarguen el dataset de Kaggle.\n",
    "- Investiguen su estructura. Notarán que las etiquetas (el texto de cada imagen) a menudo se encuentran en archivos .mat (formato de MATLAB). Pero tambien esta en formato CSV, pueden ignorar los .mat\n",
    "- Escriban los scripts para asociar correctamente cada archivo de imagen con su palabra o texto correspondiente. (Tip, el path es una columan en el CSV)"
   ]
  },
  {
   "cell_type": "markdown",
   "id": "19cbb1c7",
   "metadata": {},
   "source": [
    "1. Descargamos el dataset de Kaggle y lo guardamos en el directorio *data*"
   ]
  },
  {
   "cell_type": "code",
   "execution_count": 5,
   "id": "62c842d3",
   "metadata": {},
   "outputs": [
    {
     "name": "stdout",
     "output_type": "stream",
     "text": [
      "Contenido copiado a: C:\\Users\\alfni\\OneDrive\\Desktop\\IA\\Proyecto_2\\data\n"
     ]
    }
   ],
   "source": [
    "import shutil\n",
    "from pathlib import Path\n",
    "import kagglehub\n",
    "\n",
    "# 1) Descarga o reutiliza la ruta\n",
    "downloaded = kagglehub.dataset_download(\"prathmeshzade/iiit5k-words\")\n",
    "src = Path(downloaded)\n",
    "\n",
    "# 2) Definimos destino = carpeta padre del cwd\n",
    "project_root = Path.cwd().parent           # ← aquí la carpeta “padre”\n",
    "dst = project_root / \"data\"                # opcional: lo metemos en un subfolder “data”\n",
    "dst.mkdir(exist_ok=True)\n",
    "\n",
    "# 3) Copiamos CSVs y subcarpetas de src → dst\n",
    "for item in src.iterdir():\n",
    "    target = dst / item.name\n",
    "    if item.is_dir():\n",
    "        shutil.copytree(item, target, dirs_exist_ok=True)\n",
    "    elif item.suffix.lower() == \".csv\":\n",
    "        shutil.copy2(item, target)\n",
    "\n",
    "print(\"Contenido copiado a:\", dst.resolve())\n"
   ]
  }
 ],
 "metadata": {
  "kernelspec": {
   "display_name": "venv",
   "language": "python",
   "name": "python3"
  },
  "language_info": {
   "codemirror_mode": {
    "name": "ipython",
    "version": 3
   },
   "file_extension": ".py",
   "mimetype": "text/x-python",
   "name": "python",
   "nbconvert_exporter": "python",
   "pygments_lexer": "ipython3",
   "version": "3.11.9"
  }
 },
 "nbformat": 4,
 "nbformat_minor": 5
}
