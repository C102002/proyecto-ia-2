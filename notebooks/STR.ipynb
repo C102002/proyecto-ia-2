{
 "cells": [
  {
   "cell_type": "markdown",
   "id": "6ca363ad",
   "metadata": {},
   "source": [
    "# Modelo de Reconocimiento de Texto en Escenas (STR)"
   ]
  }
 ],
 "metadata": {
  "language_info": {
   "name": "python"
  }
 },
 "nbformat": 4,
 "nbformat_minor": 5
}
