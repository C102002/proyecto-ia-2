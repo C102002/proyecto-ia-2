{
 "cells": [
  {
   "cell_type": "markdown",
   "id": "96bff746",
   "metadata": {},
   "source": [
    "# Scene Text Recognition Example"
   ]
  },
  {
   "cell_type": "code",
   "execution_count": null,
   "id": "4ca1c5aa",
   "metadata": {},
   "outputs": [],
   "source": [
    "%pip install easyocr"
   ]
  },
  {
   "cell_type": "code",
   "execution_count": null,
   "id": "4d0c408b",
   "metadata": {},
   "outputs": [],
   "source": [
    "import easyocr\n",
    "\n",
    "try: \n",
    "    reader = easyocr.Reader(['es', 'en'])\n",
    "    image_path = '' #path de la imagen\n",
    "    results = reader.readtext(image_path)\n",
    "\n",
    "    text_detected = []  \n",
    "\n",
    "    for bbox, text, condifdence in results:\n",
    "        text_detected.append(text) \n",
    "        print(f'text detectado: \"{text}\" - Confianza: {condifdence:.2f}')\n",
    "\n",
    "    all_text = ' '.join(text_detected)\n",
    "    print(\"\\nTexto completo detectado:\")\n",
    "    print(all_text)\n",
    "\n",
    "except Exception as e:\n",
    "    print(\"Ocurrió un error:\", e)\n",
    "\n"
   ]
  }
 ],
 "metadata": {
  "language_info": {
   "name": "python"
  }
 },
 "nbformat": 4,
 "nbformat_minor": 5
}
